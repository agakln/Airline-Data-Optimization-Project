{
 "cells": [
  {
   "cell_type": "code",
   "execution_count": null,
   "metadata": {},
   "outputs": [],
   "source": [
    "import pandas as pd\n",
    "from sqlalchemy import create_engine\n",
    "import seaborn as sns\n",
    "import matplotlib.pyplot as plt\n"
   ]
  },
  {
   "cell_type": "code",
   "execution_count": null,
   "metadata": {},
   "outputs": [],
   "source": [
    "file_path = r\"C:\\Users\\aga_c\\Downloads\\Pliki_do_Portfolio_Lab (1)\\notebooks\\flight_df_01.csv\"\n",
    "flight_df = pd.read_csv(file_path)\n",
    "\n",
    "print(\"Ramka flight_df została wczytana pomyślnie.\")\n",
    "print(flight_df.head()) "
   ]
  },
  {
   "cell_type": "code",
   "execution_count": 32,
   "metadata": {},
   "outputs": [],
   "source": [
    "username = 'postgres'\n",
    "password = 'XXXXXXXXXXXXXXX!'\n",
    "database = 'airlines'\n",
    "host = 'localhost'\n",
    "port = 5432  \n",
    "\n",
    "connection_string = f\"postgresql://{username}:{password}@{host}:{port}/{database}\"\n",
    "engine = create_engine(connection_string)\n",
    "\n",
    "airport_list_df = pd.read_sql_table('airport_list', con=engine)"
   ]
  },
  {
   "cell_type": "code",
   "execution_count": null,
   "metadata": {},
   "outputs": [],
   "source": [
    "duplicates_in_origin_airport_id = airport_list_df['ORIGIN_AIRPORT_ID'].duplicated().any()\n",
    "\n",
    "if duplicates_in_origin_airport_id:\n",
    "    print(\"W kolumnie 'origin_airport_id' występują duplikaty.\")\n",
    "else:\n",
    "    print(\"W kolumnie 'origin_airport_id' nie występują duplikaty.\")\n"
   ]
  },
  {
   "cell_type": "code",
   "execution_count": null,
   "metadata": {},
   "outputs": [],
   "source": [
    "flight_df = flight_df.merge(\n",
    "    airport_list_df[['ORIGIN_AIRPORT_ID', 'ORIGIN_CITY_NAME']],  \n",
    "    how='left',  \n",
    "    left_on='ORIGIN_AIRPORT_ID',  \n",
    "    right_on='ORIGIN_AIRPORT_ID' \n",
    ")\n",
    "\n",
    "print(flight_df.head())\n"
   ]
  },
  {
   "cell_type": "code",
   "execution_count": 38,
   "metadata": {},
   "outputs": [],
   "source": [
    "flight_df = flight_df.merge(\n",
    "    airport_list_df,  \n",
    "    how='left', \n",
    "    left_on='DEST_AIRPORT_ID', \n",
    "    right_on='ORIGIN_AIRPORT_ID' \n",
    ")\n",
    "\n",
    "flight_df = flight_df.rename(columns={'ORIGIN_CITY_NAME': 'DESTINATION_CITY_NAME'})\n",
    "\n",
    "flight_df.to_csv(r\"C:\\Users\\aga_c\\Downloads\\Pliki_do_Portfolio_Lab (1)\\notebooks\\Thisss.csv\")\n"
   ]
  },
  {
   "cell_type": "code",
   "execution_count": null,
   "metadata": {},
   "outputs": [],
   "source": [
    "top_airports_origin_df = (\n",
    "    flight_df.groupby('ORIGIN_CITY_NAME_x')\n",
    "    .size()\n",
    "    .reset_index(name='flight_count')\n",
    "    .sort_values(by='flight_count', ascending=False)\n",
    ")\n",
    "\n",
    "print(top_airports_origin_df.head())\n"
   ]
  },
  {
   "cell_type": "code",
   "execution_count": null,
   "metadata": {},
   "outputs": [],
   "source": [
    "cleaned_flight_df = flight_df.dropna(subset=['DESTINATION_CITY_NAME'])\n",
    "\n",
    "top_airports_destination_df = (\n",
    "    cleaned_flight_df.groupby('DESTINATION_CITY_NAME')\n",
    "    .size() \n",
    "    .reset_index(name='flight_count') \n",
    "    .sort_values(by='flight_count', ascending=False)\n",
    ")\n",
    "print(top_airports_destination_df.head())\n"
   ]
  },
  {
   "cell_type": "code",
   "execution_count": 9,
   "metadata": {},
   "outputs": [],
   "source": [
    "username = 'postgres'\n",
    "password = 'XXXXXXXXX!'\n",
    "database = 'airlines'\n",
    "host = 'localhost'\n",
    "port = 5432  \n",
    "\n",
    "connection_string = f\"postgresql://{username}:{password}@{host}:{port}/{database}\"\n",
    "engine = create_engine(connection_string)\n",
    "\n",
    "airport_weather_df = pd.read_sql_table('airport_weather', con=engine)"
   ]
  },
  {
   "cell_type": "code",
   "execution_count": null,
   "metadata": {},
   "outputs": [],
   "source": [
    "columns_to_keep = ['STATION', 'NAME', 'DATE', 'PRCP', 'SNOW', 'SNWD', 'TMAX', 'AWND']\n",
    "airport_weather_df = airport_weather_df[columns_to_keep]\n",
    "\n",
    "print(airport_weather_df.head())\n"
   ]
  },
  {
   "cell_type": "code",
   "execution_count": null,
   "metadata": {},
   "outputs": [],
   "source": [
    "airport_weather_df = airport_weather_df.merge(\n",
    "    airport_list_df,  \n",
    "    how='left',  \n",
    "    on='NAME'    \n",
    ")\n",
    "\n",
    "print(airport_weather_df.head())"
   ]
  },
  {
   "cell_type": "code",
   "execution_count": null,
   "metadata": {},
   "outputs": [],
   "source": [
    "airport_weather_df['DATE'] = pd.to_datetime(airport_weather_df['DATE'])\n",
    "\n",
    "print(airport_weather_df['DATE'].dtype)\n"
   ]
  },
  {
   "cell_type": "code",
   "execution_count": null,
   "metadata": {},
   "outputs": [],
   "source": [
    "flight_df['DATE'] = flight_df.apply(\n",
    "    lambda row: f\"{int(row['YEAR']):04d}-{int(row['MONTH']):02d}-{int(row['DAY_OF_MONTH']):02d}\", axis=1\n",
    ")\n",
    "\n",
    "flight_df['DATE'] = pd.to_datetime(flight_df['DATE'])\n",
    "\n",
    "print(flight_df[['YEAR', 'MONTH', 'DAY_OF_MONTH', 'DATE']].head())\n"
   ]
  },
  {
   "cell_type": "code",
   "execution_count": 18,
   "metadata": {},
   "outputs": [],
   "source": [
    "flight_df = flight_df.rename(columns={'ORIGIN_AIRPORT_ID_x': 'ORIGIN_AIRPORT_ID'})\n",
    "\n",
    "merged_df = flight_df.merge(\n",
    "    airport_weather_df,\n",
    "    how='left',\n",
    "    on='ORIGIN_AIRPORT_ID'\n",
    ")\n"
   ]
  },
  {
   "cell_type": "code",
   "execution_count": null,
   "metadata": {},
   "outputs": [],
   "source": [
    "print(flight_df['TMAX'].describe())\n",
    "\n",
    "percentiles = flight_df['TMAX'].quantile([0.01, 0.25, 0.5, 0.75, 0.99])\n",
    "print(\"Percentyle TMAX:\")\n",
    "print(percentiles)\n",
    "\n",
    "plt.figure(figsize=(10, 6))\n",
    "sns.boxplot(data=flight_df, x='TMAX')\n",
    "plt.title(\"Boxplot dla TMAX (Temperatura Maksymalna)\")\n",
    "plt.show()\n",
    "\n",
    "\n",
    "tmax_min = flight_df['TMAX'].quantile(0.01)\n",
    "tmax_max = flight_df['TMAX'].quantile(0.99)\n",
    "\n",
    "flight_df_cleaned = flight_df[(flight_df['TMAX'] >= tmax_min) & (flight_df['TMAX'] <= tmax_max)]\n",
    "\n",
    "\n",
    "flight_df_cleaned['is_delayed'] = flight_df_cleaned['DEP_DELAY'] > 15\n",
    "\n",
    "\n",
    "tmax_grouped = flight_df_cleaned.groupby(flight_df_cleaned['TMAX'].round())['is_delayed'].mean().reset_index()\n",
    "tmax_grouped.columns = ['TMAX', 'delay_ratio']\n",
    "print(tmax_grouped.head())\n",
    "\n",
    "plt.figure(figsize=(12, 6))\n",
    "sns.lineplot(data=tmax_grouped, x='TMAX', y='delay_ratio', marker='o')\n",
    "plt.title(\"Odsetek opóźnień lotów w zależności od temperatury maksymalnej (TMAX)\")\n",
    "plt.xlabel(\"TMAX (Temperatura Maksymalna)\")\n",
    "plt.ylabel(\"Odsetek opóźnień\")\n",
    "plt.grid()\n",
    "plt.show()\n",
    "\n"
   ]
  }
 ],
 "metadata": {
  "kernelspec": {
   "display_name": "base",
   "language": "python",
   "name": "python3"
  },
  "language_info": {
   "codemirror_mode": {
    "name": "ipython",
    "version": 3
   },
   "file_extension": ".py",
   "mimetype": "text/x-python",
   "name": "python",
   "nbconvert_exporter": "python",
   "pygments_lexer": "ipython3",
   "version": "3.11.7"
  }
 },
 "nbformat": 4,
 "nbformat_minor": 2
}
