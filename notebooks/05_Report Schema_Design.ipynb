{
 "cells": [
  {
   "cell_type": "code",
   "execution_count": null,
   "metadata": {},
   "outputs": [],
   "source": [
    "import psycopg2\n",
    "\n",
    "username = 'postgres'  \n",
    "password = 'XXXXXXXXXXXXXX'  \n",
    "database = 'airlines'\n",
    "host = 'localhost'  \n",
    "port = 5432\n",
    "\n",
    "try:\n",
    "    connection = psycopg2.connect(\n",
    "        user=username,\n",
    "        password=password,\n",
    "        database=database,\n",
    "        host=host,\n",
    "        port=port\n",
    "    )\n",
    "    cursor = connection.cursor()\n",
    "    print(\"Połączenie z bazą danych zostało nawiązane.\")\n",
    "except Exception as error:\n",
    "    print(f\"Błąd podczas łączenia z bazą danych: {error}\")\n",
    "    connection = None  \n"
   ]
  },
  {
   "cell_type": "code",
   "execution_count": null,
   "metadata": {},
   "outputs": [],
   "source": [
    "file_path = r\"C:\\Users\\aga_c\\Downloads\\Pliki_do_Portfolio_Lab (1)\\sql\\reporting.sql\"\n",
    "\n",
    "try:\n",
    "    with open(file_path, 'r', encoding='utf-8') as file:\n",
    "        sql_script = file.read()\n",
    "    \n",
    "    cursor.execute(sql_script)\n",
    "    con.commit() \n",
    "    print(\"Skrypt SQL został pomyślnie wykonany.\")\n",
    "except Exception as e:\n",
    "    print(f\"Wystąpił błąd: {e}\")\n"
   ]
  },
  {
   "cell_type": "code",
   "execution_count": null,
   "metadata": {},
   "outputs": [],
   "source": [
    "if connection is not None:\n",
    "    cursor.close()\n",
    "    connection.close()\n",
    "    print(\"Połączenie z bazą danych zostało zamknięte.\")\n"
   ]
  }
 ],
 "metadata": {
  "kernelspec": {
   "display_name": "base",
   "language": "python",
   "name": "python3"
  },
  "language_info": {
   "codemirror_mode": {
    "name": "ipython",
    "version": 3
   },
   "file_extension": ".py",
   "mimetype": "text/x-python",
   "name": "python",
   "nbconvert_exporter": "python",
   "pygments_lexer": "ipython3",
   "version": "3.11.7"
  }
 },
 "nbformat": 4,
 "nbformat_minor": 2
}
