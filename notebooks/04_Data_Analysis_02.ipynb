{
 "cells": [
  {
   "cell_type": "code",
   "execution_count": 7,
   "metadata": {},
   "outputs": [],
   "source": [
    "import pandas as pd\n",
    "from sqlalchemy import create_engine\n",
    "import seaborn as sns"
   ]
  },
  {
   "cell_type": "code",
   "execution_count": null,
   "metadata": {},
   "outputs": [],
   "source": [
    "flight_df_path = r\"C:\\Users\\aga_c\\Downloads\\Pliki_do_Portfolio_Lab (1)\\notebooks\\flight_df.csv\"\n",
    "flight_df = pd.read_csv(flight_df_path)"
   ]
  },
  {
   "cell_type": "code",
   "execution_count": 10,
   "metadata": {},
   "outputs": [],
   "source": [
    "username = 'postgres'\n",
    "password = 'XXXXXXXXXXXXXXX!'\n",
    "database = 'airlines'\n",
    "host = 'localhost'\n",
    "port = 5432 \n",
    "\n",
    "connection_string = f\"postgresql://{username}:{password}@{host}:{port}/{database}\"\n",
    "engine = create_engine(connection_string)\n",
    "\n",
    "aircraft_df = pd.read_sql_table('aircraft', con=engine)"
   ]
  },
  {
   "cell_type": "code",
   "execution_count": 12,
   "metadata": {},
   "outputs": [],
   "source": [
    "aircraft_df = aircraft_df.drop(columns=['number_of_seats', 'id'], errors='ignore')\n",
    "aircraft_df.drop_duplicates(inplace=True)"
   ]
  },
  {
   "cell_type": "code",
   "execution_count": null,
   "metadata": {},
   "outputs": [],
   "source": [
    "aircraft_df_expected_rows = 7364\n",
    "aircraft_df_expected_columns = set(['tail_num', 'manufacture_year'])\n",
    "\n",
    "aircraft_df_rows = aircraft_df.shape[0]\n",
    "\n",
    "diff = aircraft_df_expected_columns.symmetric_difference(set(aircraft_df.columns))\n",
    "assert aircraft_df_rows == aircraft_df_expected_rows, f'Spodziewano się {aircraft_df_expected_rows} wierszy , otrzymano {aircraft_df_rows} wierszy'\n",
    "\n",
    "assert diff == set([]), f'Spodziewano się {aircraft_df_expected_columns} kolumn, otrzymano: {aircraft_df_expected_columns} kolumn. Różnica: \\n\\t{diff}'"
   ]
  },
  {
   "cell_type": "code",
   "execution_count": null,
   "metadata": {},
   "outputs": [],
   "source": [
    "if 'aircraft_df' in locals():\n",
    "    duplicates_in_tail_num = aircraft_df.groupby('TAIL_NUM')['MANUFACTURE_YEAR'].nunique() > 1\n",
    "\n",
    "    tail_num_with_multiple_years = duplicates_in_tail_num[duplicates_in_tail_num].index.tolist()\n",
    "\n",
    "    print(f\"Liczba 'tail_num' z więcej niż jednym rokiem produkcji: {len(tail_num_with_multiple_years)}\")\n",
    "else:\n",
    "    print(\"Ramka danych 'aircraft_df' nie istnieje.\")\n",
    "\n",
    "tail_num_with_multiple_years[:10] if 'tail_num_with_multiple_years' in locals() else None\n"
   ]
  },
  {
   "cell_type": "code",
   "execution_count": 26,
   "metadata": {},
   "outputs": [],
   "source": [
    "aircraft_df['MANUFACTURE_YEAR'] = (\n",
    "        aircraft_df.groupby('TAIL_NUM')['MANUFACTURE_YEAR']\n",
    "        .transform('max')\n",
    "    )"
   ]
  },
  {
   "cell_type": "code",
   "execution_count": null,
   "metadata": {},
   "outputs": [],
   "source": [
    "tmp_flight_df = pd.merge(flight_df, aircraft_df, on='TAIL_NUM', how='inner')\n",
    "\n",
    "print(tmp_flight_df.head())\n"
   ]
  },
  {
   "cell_type": "code",
   "execution_count": null,
   "metadata": {},
   "outputs": [],
   "source": [
    "duplicates = tmp_flight_df.duplicated()\n",
    "\n",
    "print(f\"Liczba duplikatów: {duplicates.sum()}\")\n",
    "\n",
    "print(tmp_flight_df[duplicates])\n",
    "\n",
    "tmp_flight_df = tmp_flight_df.drop_duplicates()\n",
    "\n",
    "print(f\"Liczba duplikatów po usunięciu: {tmp_flight_df.duplicated().sum()}\")"
   ]
  },
  {
   "cell_type": "code",
   "execution_count": 32,
   "metadata": {},
   "outputs": [],
   "source": [
    "flight_df = tmp_flight_df"
   ]
  },
  {
   "cell_type": "code",
   "execution_count": null,
   "metadata": {},
   "outputs": [],
   "source": [
    "flight_df['is_delayed'] = flight_df['DEP_DELAY'] > 0\n",
    "\n",
    "delays_by_year = flight_df.groupby('MANUFACTURE_YEAR')['is_delayed'].mean().reset_index()\n",
    "\n",
    "delays_by_year['is_delayed'] = delays_by_year['is_delayed'].round(2)\n",
    "\n",
    "print(delays_by_year)\n"
   ]
  },
  {
   "cell_type": "code",
   "execution_count": null,
   "metadata": {},
   "outputs": [],
   "source": [
    "plt.figure(figsize=(10, 6))\n",
    "plt.plot(delays_by_year['MANUFACTURE_YEAR'], delays_by_year['is_delayed'], marker='o', linestyle='-', color='b')\n",
    "\n",
    "plt.title('Zależność roku produkcji od częstotliwości opóźnień')\n",
    "plt.xlabel('Rok produkcji')\n",
    "plt.ylabel('Procent opóźnionych lotów')\n",
    "\n",
    "plt.grid(True)\n",
    "plt.show()\n"
   ]
  },
  {
   "cell_type": "code",
   "execution_count": null,
   "metadata": {},
   "outputs": [],
   "source": [
    "plt.figure(figsize=(10, 6))\n",
    "plt.plot(delays_by_year ['MANUFACTURE_YEAR'], delays_by_year ['is_delayed'], marker='o', linestyle='-', color='b')\n",
    "\n",
    "plt.title('Zależność roku produkcji od częstotliwości opóźnień (dla lat z > 10000 lotów)')\n",
    "plt.xlabel('Rok produkcji')\n",
    "plt.ylabel('Procent opóźnionych lotów')\n",
    "\n",
    "plt.grid(True)\n",
    "plt.show()\n"
   ]
  },
  {
   "cell_type": "code",
   "execution_count": null,
   "metadata": {},
   "outputs": [],
   "source": [
    "flight_df['MANUFACTURE_YEAR_AGG'] = (flight_df['MANUFACTURE_YEAR'] // 3) * 3\n",
    "\n",
    "flight_df['is_delayed'] = flight_df['DEP_DELAY'] > 0\n",
    "flight_delays_by_manufacture_year_agg_df = flight_df.groupby('MANUFACTURE_YEAR_AGG')['is_delayed'].mean().reset_index()\n",
    "\n",
    "flight_delays_by_manufacture_year_agg_df['is_delayed'] = flight_delays_by_manufacture_year_agg_df['is_delayed'].round(2)\n",
    "\n",
    "print(flight_delays_by_manufacture_year_agg_df)\n"
   ]
  },
  {
   "cell_type": "code",
   "execution_count": null,
   "metadata": {},
   "outputs": [],
   "source": [
    "sns.set(style=\"whitegrid\")\n",
    "\n",
    "plt.figure(figsize=(10, 6))\n",
    "sns.barplot(data=flight_delays_by_manufacture_year_agg_df, \n",
    "            x='MANUFACTURE_YEAR_AGG', \n",
    "            y='is_delayed', \n",
    "            palette=\"Blues_d\")\n",
    "\n",
    "plt.title('Częstotliwość opóźnień w zależności od rocznika produkcji samolotu (agregacja co 3 lata)', fontsize=14)\n",
    "plt.xlabel('Grupa roczników produkcji (co 3 lata)', fontsize=12)\n",
    "plt.ylabel('Procent opóźnionych lotów', fontsize=12)\n",
    "\n",
    "plt.xticks(rotation=45)\n",
    "plt.tight_layout()\n",
    "plt.show()\n"
   ]
  },
  {
   "cell_type": "code",
   "execution_count": null,
   "metadata": {},
   "outputs": [],
   "source": [
    "delays_by_year_df = flight_df.groupby('MANUFACTURE_YEAR')['id'].count().reset_index()\n",
    "\n",
    "top_manufactured_df = delays_by_year_df.sort_values(by='id', ascending=False).head(5)\n",
    "\n",
    "print(top_manufactured_df)\n"
   ]
  },
  {
   "cell_type": "code",
   "execution_count": null,
   "metadata": {},
   "outputs": [],
   "source": [
    "file_path = r\"C:\\Users\\aga_c\\Downloads\\Pliki_do_Portfolio_Lab (1)\\notebooks\\flight_df_01.csv\"\n",
    "\n",
    "flight_df.to_csv(file_path, index=False)\n",
    "\n",
    "print(f\"Ramka została zapisana w: {file_path}\")\n"
   ]
  }
 ],
 "metadata": {
  "kernelspec": {
   "display_name": "base",
   "language": "python",
   "name": "python3"
  },
  "language_info": {
   "codemirror_mode": {
    "name": "ipython",
    "version": 3
   },
   "file_extension": ".py",
   "mimetype": "text/x-python",
   "name": "python",
   "nbconvert_exporter": "python",
   "pygments_lexer": "ipython3",
   "version": "3.11.7"
  }
 },
 "nbformat": 4,
 "nbformat_minor": 2
}
