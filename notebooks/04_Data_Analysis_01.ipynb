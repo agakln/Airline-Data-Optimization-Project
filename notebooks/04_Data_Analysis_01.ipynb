{
 "cells": [
  {
   "cell_type": "code",
   "execution_count": null,
   "metadata": {},
   "outputs": [],
   "source": [
    "import pandas as pd\n",
    "from sqlalchemy import create_engine\n",
    "import pandas as pd\n",
    "import matplotlib.pyplot as plt\n",
    "import seaborn as sns\n",
    "import numpy as np\n",
    "\n",
    "\n"
   ]
  },
  {
   "cell_type": "code",
   "execution_count": null,
   "metadata": {},
   "outputs": [],
   "source": [
    "username = 'postgres'\n",
    "password = 'XXXXXXXXX'\n",
    "database = 'airlines'\n",
    "host = 'localhost'\n",
    "port = 5432  \n",
    "\n",
    "connection_string = f\"postgresql://{username}:{password}@{host}:{port}/{database}\"\n",
    "engine = create_engine(connection_string)\n",
    "\n",
    "flight_df_raw2 = pd.read_sql_table('flight', con=engine)\n",
    "\n",
    "print(flight_df_raw2.head())"
   ]
  },
  {
   "cell_type": "code",
   "execution_count": null,
   "metadata": {},
   "outputs": [],
   "source": [
    "flight_df_cleaned = flight_df_raw2[\n",
    "    ~((flight_df_raw2['YEAR'] == 2020) | (flight_df_raw2['CANCELLED'] == 1))\n",
    "]\n",
    "\n",
    "print(f\"Liczba wierszy przed oczyszczeniem: {len(flight_df_raw2)}\")\n",
    "print(f\"Liczba wierszy po oczyszczeniu: {len(flight_df_cleaned)}\")\n",
    "\n"
   ]
  },
  {
   "cell_type": "code",
   "execution_count": null,
   "metadata": {},
   "outputs": [],
   "source": [
    "flight_df_cleaned.rename(columns={'DEP_DELAY_NEW': 'DEP_DELAY'}, inplace=True)\n",
    "\n",
    "print(flight_df_cleaned.columns)"
   ]
  },
  {
   "cell_type": "code",
   "execution_count": null,
   "metadata": {},
   "outputs": [],
   "source": [
    "dep_delay_statistics_df = flight_df_cleaned['DEP_DELAY'].describe().round(2)"
   ]
  },
  {
   "cell_type": "code",
   "execution_count": null,
   "metadata": {},
   "outputs": [],
   "source": [
    "plt.figure(figsize=(10, 6))\n",
    "plt.hist(flight_df_cleaned['DEP_DELAY'], bins=np.arange(0, flight_df_cleaned['DEP_DELAY'].max() + 10, 10), edgecolor='black')\n",
    "plt.title('Histogram dla całej kolumny DEP_DELAY')\n",
    "plt.xlabel('Opóźnienie (minuty)')\n",
    "plt.ylabel('Częstotliwość')\n",
    "plt.grid(True)\n",
    "plt.show()"
   ]
  },
  {
   "cell_type": "code",
   "execution_count": null,
   "metadata": {},
   "outputs": [],
   "source": [
    "filtered_dep_delay = flight_df_cleaned[flight_df_cleaned['DEP_DELAY'] > 0]\n",
    "\n",
    "plt.figure(figsize=(10, 6))\n",
    "plt.hist(filtered_dep_delay['DEP_DELAY'], bins=np.arange(0, filtered_dep_delay['DEP_DELAY'].max() + 10, 10), edgecolor='black')\n",
    "plt.title('Histogram dla dep_delay > 0')\n",
    "plt.xlabel('Opóźnienie (minuty)')\n",
    "plt.ylabel('Częstotliwość')\n",
    "plt.grid(True)\n",
    "plt.show()\n"
   ]
  },
  {
   "cell_type": "code",
   "execution_count": null,
   "metadata": {},
   "outputs": [],
   "source": [
    "percentile_95 = np.percentile(flight_df_cleaned['DEP_DELAY'], 95)\n",
    "\n",
    "filtered_dep_delay = flight_df_cleaned[(flight_df_cleaned['DEP_DELAY'] > 0) & \n",
    "                                       (flight_df_cleaned['DEP_DELAY'] < percentile_95)]\n",
    "\n",
    "plt.figure(figsize=(10, 6))\n",
    "plt.hist(filtered_dep_delay['DEP_DELAY'], bins=np.arange(0, percentile_95 + 10, 10), edgecolor='black')\n",
    "plt.title(f'Histogram dla dep_delay > 0 i dep_delay < {percentile_95} (95. percentyl)')\n",
    "plt.xlabel('Opóźnienie (minuty)')\n",
    "plt.ylabel('Częstotliwość')\n",
    "plt.grid(True)\n",
    "plt.show()\n"
   ]
  },
  {
   "cell_type": "code",
   "execution_count": null,
   "metadata": {},
   "outputs": [],
   "source": [
    "flight_df_cleaned['is_delayed'] = flight_df_cleaned['DEP_DELAY'] > 15\n",
    "\n",
    "delayed_ratio = flight_df_cleaned['is_delayed'].mean() * 100\n",
    "\n",
    "delayed_ratio = round(delayed_ratio, 2)\n",
    "\n",
    "print(f\"Procent opóźnionych lotów: {delayed_ratio}%\")\n"
   ]
  },
  {
   "cell_type": "code",
   "execution_count": null,
   "metadata": {},
   "outputs": [],
   "source": [
    "flight_df_cleaned['is_delayed'] = flight_df_cleaned['DEP_DELAY'] > 15\n",
    "\n",
    "flight_delays_by_month_df = flight_df_cleaned.groupby('MONTH')['is_delayed'].mean() * 100\n",
    "\n",
    "plt.figure(figsize=(10, 6))\n",
    "flight_delays_by_month_df.plot(kind='bar', color='skyblue', edgecolor='black')\n",
    "\n",
    "plt.title('Odsetek opóźnionych lotów w zależności od miesiąca kalendarzowego', fontsize=14)\n",
    "plt.xlabel('Miesiąc', fontsize=12)\n",
    "plt.ylabel('Procent opóźnionych lotów', fontsize=12)\n",
    "plt.xticks(ticks=range(12), labels=['Styczeń', 'Luty', 'Marzec', 'Kwiecień', 'Maj', 'Czerwiec', 'Lipiec', 'Sierpień', 'Wrzesień', 'Październik', 'Listopad', 'Grudzień'], rotation=45)\n",
    "plt.grid(axis='y', linestyle='--', alpha=0.7)\n",
    "\n",
    "plt.tight_layout()\n",
    "plt.show()\n"
   ]
  },
  {
   "cell_type": "code",
   "execution_count": null,
   "metadata": {},
   "outputs": [],
   "source": [
    "flight_df_cleaned['is_delayed'] = flight_df_cleaned['DEP_DELAY'] > 15\n",
    "\n",
    "flight_delays_by_weekday_df = flight_df_cleaned.groupby('DAY_OF_WEEK')['is_delayed'].mean() * 100\n",
    "\n",
    "plt.figure(figsize=(10, 6))\n",
    "flight_delays_by_weekday_df.plot(kind='bar', color='skyblue', edgecolor='black')\n",
    "\n",
    "plt.title('Odsetek opóźnionych lotów w zależności od dnia tygodnia', fontsize=14)\n",
    "plt.xlabel('Dzień tygodnia', fontsize=12)\n",
    "plt.ylabel('Procent opóźnionych lotów', fontsize=12)\n",
    "plt.xticks(ticks=range(7), labels=['Poniedziałek', 'Wtorek', 'Środa', 'Czwartek', 'Piątek', 'Sobota', 'Niedziela'], rotation=45)\n",
    "plt.grid(axis='y', linestyle='--', alpha=0.7)\n",
    "\n",
    "plt.tight_layout()\n",
    "plt.show()\n"
   ]
  },
  {
   "cell_type": "code",
   "execution_count": null,
   "metadata": {},
   "outputs": [],
   "source": [
    "flight_df_cleaned['is_weekend'] = flight_df_cleaned['DAY_OF_WEEK'].isin([6, 7])\n",
    "\n",
    "flight_delays_by_weekend_df = flight_df_cleaned.groupby('is_weekend')['is_delayed'].mean() * 100\n",
    "\n",
    "flight_delays_by_weekend_df = flight_delays_by_weekend_df.round(2)\n",
    "\n",
    "plt.figure(figsize=(8, 5))\n",
    "flight_delays_by_weekend_df.plot(kind='bar', color=['skyblue', 'lightcoral'], edgecolor='black')\n",
    "\n",
    "plt.title('Odsetek opóźnionych lotów w weekend vs. dni robocze', fontsize=14)\n",
    "plt.xlabel('Czy to weekend?', fontsize=12)\n",
    "plt.ylabel('Procent opóźnionych lotów', fontsize=12)\n",
    "plt.xticks(ticks=[0, 1], labels=['Dni robocze', 'Weekend'], rotation=0)\n",
    "plt.grid(axis='y', linestyle='--', alpha=0.7)\n",
    "\n",
    "plt.tight_layout()\n",
    "plt.show()\n"
   ]
  },
  {
   "cell_type": "code",
   "execution_count": null,
   "metadata": {},
   "outputs": [],
   "source": [
    "flight_distance_analysis_df = flight_df_cleaned['DISTANCE'].describe(percentiles=[.1, .25, .5, .75, .9, .95, .99]).round(2)\n",
    "\n",
    "print(flight_distance_analysis_df)\n",
    "\n",
    "sample_df = flight_df_cleaned.sample(n=10000, random_state=42)\n",
    "plt.figure(figsize=(10, 6))\n",
    "plt.scatter(sample_df['DISTANCE'], sample_df['DEP_DELAY'], alpha=0.5, color='blue', s=1)\n",
    "plt.title('Zależność między odległością lotu a opóźnieniem', fontsize=14)\n",
    "plt.xlabel('Odległość (miles)', fontsize=12)\n",
    "plt.ylabel('Opóźnienie (minuty)', fontsize=12)\n",
    "plt.grid(True)\n",
    "plt.show()\n",
    "\n",
    "distance_95_percentile = np.percentile(flight_df_cleaned['DISTANCE'], 95)\n",
    "flight_df_corrected = flight_df_cleaned[flight_df_cleaned['DISTANCE'] <= distance_95_percentile]\n",
    "\n",
    "\n",
    "flight_df_corrected['distance_agg'] = (flight_df_corrected['DISTANCE'] // 100) * 100\n",
    "\n",
    "\n",
    "flight_delays_by_distance_agg_df = flight_df_corrected.groupby('distance_agg')['is_delayed'].mean() * 100\n",
    "flight_delays_by_distance_agg_df = flight_delays_by_distance_agg_df.round(2)\n",
    "\n",
    "plt.figure(figsize=(12, 6))\n",
    "flight_delays_by_distance_agg_df.plot(kind='bar', color='lightblue', edgecolor='black')\n",
    "\n",
    "plt.title('Odsetek opóźnionych lotów w zależności od koszyka odległości', fontsize=14)\n",
    "plt.xlabel('Koszyk odległości (miles)', fontsize=12)\n",
    "plt.ylabel('Procent opóźnionych lotów', fontsize=12)\n",
    "plt.xticks(rotation=45)\n",
    "plt.grid(axis='y', linestyle='--', alpha=0.7)\n",
    "\n",
    "plt.tight_layout()\n",
    "plt.show()\n"
   ]
  },
  {
   "cell_type": "code",
   "execution_count": null,
   "metadata": {},
   "outputs": [],
   "source": [
    "flight_distance_by_distance_group = flight_df_cleaned.groupby('DISTANCE_GROUP')['DISTANCE'].agg(['min', 'max']).reset_index()\n",
    "\n",
    "print(flight_distance_by_distance_group)\n",
    "\n",
    "flight_df_cleaned['is_delayed'] = flight_df_cleaned['DEP_DELAY'] > 0  \n",
    "\n",
    "flight_delays_by_distance_group_df = flight_df_cleaned.groupby('DISTANCE_GROUP')['is_delayed'].mean().reset_index()\n",
    "flight_delays_by_distance_group_df['is_delayed'] = flight_delays_by_distance_group_df['is_delayed'].round(2) * 100  \n",
    "\n",
    "print(flight_delays_by_distance_group_df)\n",
    "\n",
    "plt.figure(figsize=(12, 6))\n",
    "plt.bar(flight_delays_by_distance_group_df['DISTANCE_GROUP'], flight_delays_by_distance_group_df['is_delayed'], color='lightblue', edgecolor='black')\n",
    "\n",
    "plt.title('Prawdopodobieństwo opóźnienia w zależności od grupy odległościowej', fontsize=14)\n",
    "plt.xlabel('Grupa odległościowa', fontsize=12)\n",
    "plt.ylabel('Prawdopodobieństwo opóźnienia (%)', fontsize=12)\n",
    "plt.xticks(rotation=45)\n",
    "plt.grid(axis='y', linestyle='--', alpha=0.7)\n",
    "\n",
    "plt.tight_layout()\n",
    "plt.show()\n"
   ]
  }
 ],
 "metadata": {
  "kernelspec": {
   "display_name": "base",
   "language": "python",
   "name": "python3"
  },
  "language_info": {
   "codemirror_mode": {
    "name": "ipython",
    "version": 3
   },
   "file_extension": ".py",
   "mimetype": "text/x-python",
   "name": "python",
   "nbconvert_exporter": "python",
   "pygments_lexer": "ipython3",
   "version": "3.11.7"
  }
 },
 "nbformat": 4,
 "nbformat_minor": 2
}
