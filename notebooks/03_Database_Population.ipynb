{
 "cells": [
  {
   "cell_type": "code",
   "execution_count": null,
   "metadata": {},
   "outputs": [],
   "source": [
    "from sqlalchemy import create_engine\n",
    "import pandas as pd\n",
    "\n",
    "username = 'postgres'  \n",
    "password = 'XXXXXXXXX'  \n",
    "database = 'airlines' \n",
    "host = 'localhost' \n",
    "port = 5432\n",
    "\n",
    "url = f\"postgresql://{username}:{password}@{host}:{port}/{database}\"\n",
    "\n",
    "engine = create_engine(url)\n",
    "\n",
    "print(\"Zmienna `url` i `engine` zostały zdefiniowane.\")\n",
    "\n",
    "paths = {\n",
    "    \"aircraft\": r\"C:\\Users\\aga_c\\Downloads\\Pliki_do_Portfolio_Lab (1)\\notebooks\\aircraft.csv\",\n",
    "    \"airport_list\": r\"C:\\Users\\aga_c\\Downloads\\Pliki_do_Portfolio_Lab (1)\\notebooks\\airport_data.csv\",\n",
    "    \"airport_weather\": r\"C:\\Users\\aga_c\\Downloads\\Pliki_do_Portfolio_Lab (1)\\notebooks\\airport_weather.csv\",\n",
    "    \"flight\": r\"C:\\Users\\aga_c\\Downloads\\Pliki_do_Portfolio_Lab (1)\\notebooks\\flight.csv\",\n",
    "}\n",
    "\n",
    "dataframes = {name: pd.read_csv(path) for name, path in paths.items()}\n",
    "\n",
    "def export_table_to_db(df, table_name, engine):\n",
    " \n",
    "\n",
    "    if 'id' not in df.columns:\n",
    "        df.insert(0, 'id', range(1, len(df) + 1))\n",
    "    \n",
    "\n",
    "    df.to_sql(table_name, con=engine, if_exists='replace', index=False)\n",
    "    print(f\"Tabela '{table_name}' została wyeksportowana do bazy danych.\")\n",
    "\n",
    "connection_string = f\"postgresql://{username}:{password}@{host}:{port}/{database}\"\n",
    "engine = create_engine(connection_string)\n",
    "\n",
    "table_names = {\n",
    "    \"aircraft\": \"aircraft\",\n",
    "    \"airport_list\": \"airport_list\",\n",
    "    \"airport_weather\": \"airport_weather\",\n",
    "    \"flight\": \"flight\",\n",
    "}\n",
    "\n",
    "for df_name, table_name in table_names.items():\n",
    "    export_table_to_db(dataframes[df_name], table_name, engine)\n"
   ]
  }
 ],
 "metadata": {
  "kernelspec": {
   "display_name": "base",
   "language": "python",
   "name": "python3"
  },
  "language_info": {
   "codemirror_mode": {
    "name": "ipython",
    "version": 3
   },
   "file_extension": ".py",
   "mimetype": "text/x-python",
   "name": "python",
   "nbconvert_exporter": "python",
   "pygments_lexer": "ipython3",
   "version": "3.11.7"
  }
 },
 "nbformat": 4,
 "nbformat_minor": 2
}
